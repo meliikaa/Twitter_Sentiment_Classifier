{
  "nbformat": 4,
  "nbformat_minor": 0,
  "metadata": {
    "colab": {
      "provenance": []
    },
    "kernelspec": {
      "name": "python3",
      "display_name": "Python 3"
    },
    "language_info": {
      "name": "python"
    }
  },
  "cells": [
    {
      "cell_type": "markdown",
      "source": [
        "To start this project :\n",
        "Firstly, defined a function called strip_punctuation which takes one parameter, a string which represents a word, and removes characters considered punctuation from everywhere in the word"
      ],
      "metadata": {
        "id": "qI1yzwM2f_X6"
      }
    },
    {
      "cell_type": "code",
      "execution_count": null,
      "metadata": {
        "id": "4UvrjDA-QpNJ"
      },
      "outputs": [],
      "source": [
        "punctuation_chars = [\"'\", '\"', \",\", \".\", \"!\", \":\", \";\", '#', '@']\n",
        "def strip_punctuation (str1):\n",
        "    for i in range (9):\n",
        "        str1 = str1.replace(punctuation_chars[i], \"\")\n",
        "    strip_punctuation = str1\n",
        "    return strip_punctuation\n",
        "\n",
        "\n"
      ]
    },
    {
      "cell_type": "markdown",
      "source": [
        "In second step, copied in my strip_punctuation function and defined a function called get_pos which takes one parameter, a string which represents one or more sentences, and calculates how many words in the string are considered positive words. Used the list, positive_words to determine what words will count as positive. The function should return a positive integer - how many occurrences there are of positive words in the text. Note that all of the words in positive_words are lower cased, so I convertd all the words in the input string to lower case as well. Moreover, I also used strip_punctuation to get ride of any extra character in the string."
      ],
      "metadata": {
        "id": "RqtsmDKQgJMF"
      }
    },
    {
      "cell_type": "code",
      "source": [
        "\n",
        "punctuation_chars = [\"'\", '\"', \",\", \".\", \"!\", \":\", \";\", '#', '@']\n",
        "# list of positive words to use\n",
        "def strip_punctuation (str1):\n",
        "    for i in range (9):\n",
        "        str1 = str1.replace(punctuation_chars[i], \"\")\n",
        "    strip_punctuation = str1\n",
        "    return strip_punctuation\n",
        "\n",
        "positive_words = []\n",
        "with open(\"positive_words.txt\") as pos_f:\n",
        "    for lin in pos_f:\n",
        "        if lin[0] != ';' and lin[0] != '\\n':\n",
        "            positive_words.append(lin.strip())\n",
        "\n",
        "def get_pos(str2):\n",
        "    global pos_count\n",
        "    pos_count = 0\n",
        "    str2 = str2.lower()\n",
        "    words = strip_punctuation(str2).split()\n",
        "    for word in words:\n",
        "        if word in positive_words:\n",
        "            pos_count += 1\n",
        "    return pos_count"
      ],
      "metadata": {
        "id": "WeTFCL8gnzZT"
      },
      "execution_count": null,
      "outputs": []
    },
    {
      "cell_type": "markdown",
      "source": [
        "The above step was also done for negative_words"
      ],
      "metadata": {
        "id": "J8tTtorKoPwf"
      }
    },
    {
      "cell_type": "code",
      "source": [
        "punctuation_chars = [\"'\", '\"', \",\", \".\", \"!\", \":\", \";\", '#', '@']\n",
        "def strip_punctuation (str1):\n",
        "    for i in range (9):\n",
        "        str1 = str1.replace(punctuation_chars[i], \"\")\n",
        "    strip_punctuation = str1\n",
        "    return strip_punctuation\n",
        "\n",
        "negative_words = []\n",
        "with open(\"negative_words.txt\") as pos_f:\n",
        "    for lin in pos_f:\n",
        "        if lin[0] != ';' and lin[0] != '\\n':\n",
        "            negative_words.append(lin.strip())\n",
        "def get_neg(str2):\n",
        "    global neg_count\n",
        "    neg_count = 0\n",
        "    str2 = str2.lower()\n",
        "    words = strip_punctuation(str2).split()\n",
        "    for word in words:\n",
        "        if word in negative_words :\n",
        "            neg_count += 1\n",
        "    return neg_count\n"
      ],
      "metadata": {
        "id": "zjbNJlA5o0tg"
      },
      "execution_count": null,
      "outputs": []
    },
    {
      "cell_type": "markdown",
      "source": [
        "opened the file project_twitter_data.csv which has the fake generated twitter data (the text of a tweet, the number of retweets of that tweet, and the number of replies to that tweet). the original task is to build a sentiment classifier, which will detect how positive or negative each tweet is. Now, we will write code to create a csv file called resulting_data.csv, which contains the Number of Retweets, Number of Replies, Positive Score (which is how many happy words are in the tweet), Negative Score (which is how many angry words are in the tweet), and the Net Score (how positive or negative the text is overall) for each tweet. The file should have those headers in that order."
      ],
      "metadata": {
        "id": "8oMDXWHxo3pW"
      }
    },
    {
      "cell_type": "markdown",
      "source": [
        "\n",
        "```\n",
        "# match = re.search(r'(\\d+),(\\d+)$', input_str)\n",
        "num1 = int(match.group(1))\n",
        "num2 = int(match.group(2))\n",
        "```\n",
        "\n",
        "This piece of code uses the re module in Python to search for a pattern in a string using regular expressions.\n",
        "\n",
        "The regular expression pattern (\\d+),(\\d+)$ is looking for a sequence of one or more digits \\d+, followed by a comma ,, and then another sequence of one or more digits \\d+, followed by the end of the string $.\n",
        "\n",
        "re.search searches the string for the given pattern, and if it finds a match, it returns a MatchObject which can be used to extract the matched parts of the string.\n",
        "\n",
        "match.group(1) extracts the first matched group (the first sequence of digits before the comma) as a string, and int(match.group(1)) converts it to an integer. Similarly, match.group(2) extracts the second matched group (the second sequence of digits after the comma) as a string and converts it to an integer.\n",
        "*italicized text*\n",
        "So essentially, this code is extracting two numbers that are at the end of a string separated by a comma, and storing them as num1 and num2. *italicized text*"
      ],
      "metadata": {
        "id": "0_duampYqlZ1"
      }
    },
    {
      "cell_type": "markdown",
      "source": [
        "\n",
        "\n",
        "```\n",
        "input_str = input_str[:-len(match.group(0))]\n",
        "```\n",
        "\n",
        "The line input_str = input_str[:-len(match.group(0))] removes the matched portion of the string from input_str.\n",
        "\n",
        "Here's how it works:\n",
        "\n",
        "1-match.group(0) returns the entire matched string, which is the last comma-separated pair of numbers in input_str.\n",
        "2-len(match.group(0)) gives the length of this string.\n",
        "3-input_str[:-len(match.group(0))] slices the original string to remove the matched portion. It takes a slice from the beginning of input_str up to (but not including) the length of the matched string. This effectively removes the matched portion from the end of the string.\n",
        "match.group(0) always returns the entire matching string, regardless of whether you used capturing groups in the regular expression or not. In this specific code snippet, match.group(0) will return the matched substring of input_str that matches the pattern (\\d+),(\\d+)$, which is the last two comma-separated numbers in input_str."
      ],
      "metadata": {
        "id": "Mo3z0K3ZQN5g"
      }
    },
    {
      "cell_type": "code",
      "source": [
        "import re\n",
        "\n",
        "# list of positive words to use\n",
        "positive_words = []\n",
        "with open(\"positive_words.txt\") as pos_f:\n",
        "    for lin in pos_f:\n",
        "        if lin[0] != ';' and lin[0] != '\\n':\n",
        "            positive_words.append(lin.strip())\n",
        "\n",
        "# list of negative words to use\n",
        "negative_words = []\n",
        "with open(\"negative_words.txt\") as neg_f:\n",
        "    for lin in neg_f:\n",
        "        if lin[0] != ';' and lin[0] != '\\n':\n",
        "            negative_words.append(lin.strip())\n",
        "\n",
        "# input string\n",
        "input_str = \"@twitteruser: On now - @Fusion scores first points #FirstFinals @overwatchleague @umich @umsi Michigan Athletics made out of emojis. #GoBlue,3,0\"\n",
        "\n",
        "# extract the two numbers at the end of the string\n",
        "match = re.search(r'(\\d+),(\\d+)$', input_str)\n",
        "num1 = int(match.group(1))\n",
        "num2 = int(match.group(2))\n",
        "\n",
        "# remove the two numbers from the input string\n",
        "input_str = input_str[:-len(match.group(0))]\n",
        "\n",
        "# remove punctuation from the input string\n",
        "punctuation_chars = [\"'\", '\"', \",\", \".\", \"!\", \":\", \";\", '#', '@']\n",
        "for i in range(len(punctuation_chars)):\n",
        "    input_str = input_str.replace(punctuation_chars[i], \"\")\n",
        "\n",
        "# convert the input string to lowercase and split it into a list of words\n",
        "words = input_str.lower().split()\n",
        "\n",
        "# count the number of positive and negative words in the list\n",
        "pos_count = 0\n",
        "neg_count = 0\n",
        "for word in words:\n",
        "    if word in positive_words:\n",
        "        pos_count += 1\n",
        "    elif word in negative_words:\n",
        "        neg_count += 1\n",
        "\n",
        "# print the results\n",
        "print(\"Positive words:\", pos_count)\n",
        "print(\"Negative words:\", neg_count)\n",
        "print(\"Number 1:\", num1)\n",
        "print(\"Number 2:\", num2)\n"
      ],
      "metadata": {
        "id": "A-nRmTRAqKzl"
      },
      "execution_count": null,
      "outputs": []
    },
    {
      "cell_type": "code",
      "source": [
        "import csv\n",
        "import re\n",
        "# remove punctuation from the input string\n",
        "punctuation_chars = [\"'\", '\"', \",\", \".\", \"!\", \":\", \";\", '#', '@']\n",
        "def strip_punctuation (str1):\n",
        "    for i in range (9):\n",
        "        str1 = str1.replace(punctuation_chars[i], \"\")\n",
        "    strip_punctuation = str1\n",
        "    return strip_punctuation\n",
        "\n",
        "# list of negative words to use\n",
        "negative_words = []\n",
        "with open(\"negative_words.txt\") as neg_f:\n",
        "    for lin in neg_f:\n",
        "        if lin[0] != ';' and lin[0] != '\\n':\n",
        "            negative_words.append(lin.strip())\n",
        "def get_neg(str2):\n",
        "    global neg_count\n",
        "    neg_count = 0\n",
        "    str2 = str2.lower()\n",
        "    words = strip_punctuation(str2).split()\n",
        "    for word in words:\n",
        "        if word in negative_words :\n",
        "            neg_count += 1\n",
        "    return neg_count\n",
        "positive_words = []\n",
        "with open(\"positive_words.txt\") as pos_f:\n",
        "    for lin in pos_f:\n",
        "        if lin[0] != ';' and lin[0] != '\\n':\n",
        "            positive_words.append(lin.strip())\n",
        "def get_pos(str2):\n",
        "    global pos_count\n",
        "    pos_count = 0\n",
        "    str2 = str2.lower()\n",
        "    words = strip_punctuation(str2).split()\n",
        "    for word in words:\n",
        "        if word in positive_words:\n",
        "            pos_count += 1\n",
        "    return pos_count\n",
        "with open(\"project_twitter_data.csv\", \"r\") as input_file, open(\"resulting_data.csv\", \"w\", newline='') as output_file:\n",
        "    # create a csv reader and writer\n",
        "    reader = csv.reader(input_file)\n",
        "    writer = csv.writer(output_file)\n",
        "    # write the header row for the output file\n",
        "    writer.writerow([\"Number of Retweets\", \"Number of Replies\", \"Positive Score\", \"Negative Score\", \"Net Score\"])\n",
        "\n",
        "    # iterate over each row in the input file\n",
        "    retweet_count = []\n",
        "    reply_count = []\n",
        "    neg_count_list = []\n",
        "    pos_count_list = []\n",
        "    Net_score_list = []\n",
        "    for row in reader:\n",
        "        if reader.line_num == 1:  # skip header row\n",
        "          continue\n",
        "        num1 = row[1]\n",
        "        retweet_count.append(num1)\n",
        "        num2 = row[2]\n",
        "        reply_count.append(num2)\n",
        "        neg_count = get_neg(row[0])\n",
        "        neg_count_list.append(neg_count)\n",
        "        pos_count = get_pos(row[0])\n",
        "        pos_count_list.append(pos_count)\n",
        "        Net_Score = pos_count - neg_count\n",
        "        Net_score_list.append(Net_Score)\n",
        "\n",
        "    # delete the first item from retweet_count and reply_count lists\n",
        "    retweet_count = retweet_count[1:]\n",
        "    reply_count = reply_count[1:]\n",
        "\n",
        "    # write the data rows to the output file\n",
        "\n",
        "    for i in range(len(retweet_count)):\n",
        "      writer.writerow([retweet_count[i], reply_count[i], pos_count_list[i], neg_count_list[i], Net_score_list[i]])\n",
        "\n",
        "\n",
        "\n",
        "\n",
        "    print(\"net\", Net_score_list)\n",
        "    print(neg_count_list)\n",
        "    print(pos_count_list)\n",
        "\n",
        "\n",
        "\n",
        "\n"
      ],
      "metadata": {
        "colab": {
          "base_uri": "https://localhost:8080/"
        },
        "id": "YLqsyI5latNw",
        "outputId": "24817dd8-d424-4399-e5d3-bee4d35188b0"
      },
      "execution_count": null,
      "outputs": [
        {
          "output_type": "stream",
          "name": "stdout",
          "text": [
            "net [0, 0, 1, 1, 2, 2, 2, -3, -2, 4, -1, 1, 2, 1, 1, 1, 3, 2, 0]\n",
            "[0, 2, 0, 0, 0, 0, 0, 3, 2, 0, 1, 0, 0, 0, 0, 1, 0, 1, 1]\n",
            "[0, 2, 1, 1, 2, 2, 2, 0, 0, 4, 0, 1, 2, 1, 1, 2, 3, 3, 1]\n"
          ]
        }
      ]
    },
    {
      "cell_type": "markdown",
      "source": [
        "The same project without using csv module"
      ],
      "metadata": {
        "id": "01lDP2KfSUAU"
      }
    },
    {
      "cell_type": "code",
      "source": [
        "# remove punctuation from the input string\n",
        "punctuation_chars = [\"'\", '\"', \",\", \".\", \"!\", \":\", \";\", '#', '@']\n",
        "def strip_punctuation (str1):\n",
        "    for i in range (9):\n",
        "        str1 = str1.replace(punctuation_chars[i], \"\")\n",
        "    strip_punctuation = str1\n",
        "    return strip_punctuation\n",
        "\n",
        "# list of negative words to use\n",
        "negative_words = []\n",
        "with open(\"negative_words.txt\") as neg_f:\n",
        "    for lin in neg_f:\n",
        "        if lin[0] != ';' and lin[0] != '\\n':\n",
        "            negative_words.append(lin.strip())\n",
        "\n",
        "# list of positive words to use\n",
        "positive_words = []\n",
        "with open(\"positive_words.txt\") as pos_f:\n",
        "    for lin in pos_f:\n",
        "        if lin[0] != ';' and lin[0] != '\\n':\n",
        "            positive_words.append(lin.strip())\n",
        "\n",
        "# open input and output files\n",
        "input_file = open(\"project_twitter_data.csv\", \"r\")\n",
        "output_file = open(\"resulting_data.csv\", \"w\")\n",
        "\n",
        "# write the header row for the output file\n",
        "output_file.write(\"Number of Retweets,Number of Replies,Positive Score,Negative Score,Net Score\\n\")\n",
        "\n",
        "# iterate over each row in the input file\n",
        "for line in input_file:\n",
        "    # skip the header row\n",
        "    if \"retweet_count\" in line:\n",
        "        continue\n",
        "\n",
        "    # extract the fields from the input row\n",
        "    fields = line.strip().split(\",\")\n",
        "\n",
        "    # extract the retweet and reply counts\n",
        "    retweet_count = int(fields[1])\n",
        "    reply_count = int(fields[2])\n",
        "\n",
        "    # extract the tweet text and compute positive and negative scores\n",
        "    tweet_text = fields[0]\n",
        "    tweet_text = tweet_text.lower()\n",
        "    tweet_text = strip_punctuation(tweet_text)\n",
        "    words = tweet_text.split()\n",
        "    pos_count = 0\n",
        "    neg_count = 0\n",
        "    for word in words:\n",
        "        if word in positive_words:\n",
        "            pos_count += 1\n",
        "        elif word in negative_words:\n",
        "            neg_count += 1\n",
        "\n",
        "    # compute the net score\n",
        "    net_score = pos_count - neg_count\n",
        "\n",
        "    # write the output row to the output file\n",
        "    output_file.write(f\"{retweet_count},{reply_count},{pos_count},{neg_count},{net_score}\\n\")\n",
        "\n",
        "# close input and output files\n",
        "input_file.close()\n",
        "output_file.close()\n"
      ],
      "metadata": {
        "id": "QvFwAvTOSYfP"
      },
      "execution_count": null,
      "outputs": []
    }
  ]
}